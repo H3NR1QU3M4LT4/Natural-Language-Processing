{
 "cells": [
  {
   "cell_type": "markdown",
   "id": "f7da6395-4fa2-4f47-be1e-65abd6316eab",
   "metadata": {},
   "source": [
    "# Introduction"
   ]
  },
  {
   "cell_type": "markdown",
   "id": "7abf637f-4718-44e3-85be-ca2ea1b1e58c",
   "metadata": {},
   "source": [
    "Text classification is one of the most common tasks in NLP; it can be used for a broad range of applications, such as tagging customer feedback into categories or routing support tickets according to their language.\n",
    "\n",
    "In this tutorial was used a variant of BERT called [DistilBERT](https://arxiv.org/abs/1910.01108) V. Sanh et al., \"DistilBERT, a Distilled Version of BERT: Smaller, Faster, Cheaper and Lighter\", (2019).\n",
    "\n",
    "Notice that I'm following the book: *[Natural language processing with transformers](https://books.google.pt/books?hl=en&lr=&id=nzxbEAAAQBAJ&oi=fnd&pg=PP1&dq=natural+language+processing+with+hugging+face+book&ots=sUngJ_q1JE&sig=jA559R-MigxWmh5vZQtpTJSeJkU&redir_esc=y#v=onepage&q=natural%20language%20processing%20with%20hugging%20face%20book&f=false)*."
   ]
  },
  {
   "cell_type": "markdown",
   "id": "8ab45d24-18f0-4cc5-928c-7605b9048c59",
   "metadata": {
    "jp-MarkdownHeadingCollapsed": true
   },
   "source": [
    "# Instalations"
   ]
  },
  {
   "cell_type": "code",
   "execution_count": null,
   "id": "a98cc288-0ac8-4c13-a280-440d418dae52",
   "metadata": {},
   "outputs": [],
   "source": [
    "! pip install 'transformers[torch]'"
   ]
  },
  {
   "cell_type": "code",
   "execution_count": null,
   "id": "d4fab8f4-b16b-4aeb-aec5-6dd482e85531",
   "metadata": {},
   "outputs": [],
   "source": [
    "! pip install datasets"
   ]
  },
  {
   "cell_type": "code",
   "execution_count": null,
   "id": "f4f64266-1e80-4653-a0e4-ce5e38323bb3",
   "metadata": {},
   "outputs": [],
   "source": [
    "! pip install scikit-learn"
   ]
  },
  {
   "cell_type": "code",
   "execution_count": null,
   "id": "0a2e6466-3338-4656-8a70-bc0a57932302",
   "metadata": {},
   "outputs": [],
   "source": [
    "! pip install huggingface_hub"
   ]
  },
  {
   "cell_type": "code",
   "execution_count": null,
   "id": "6f41078e-9722-4589-be91-23a60db6e467",
   "metadata": {},
   "outputs": [],
   "source": [
    "! pip install pandas"
   ]
  },
  {
   "cell_type": "code",
   "execution_count": null,
   "id": "975a014b-ac42-4abe-92c4-980181e8f8a8",
   "metadata": {},
   "outputs": [],
   "source": [
    "! pip install matplotlib"
   ]
  },
  {
   "cell_type": "code",
   "execution_count": null,
   "id": "858c76de-0e2d-4f91-a056-26645a09bb04",
   "metadata": {},
   "outputs": [],
   "source": [
    "! pip install torch"
   ]
  },
  {
   "cell_type": "code",
   "execution_count": null,
   "id": "d6cc6406-7b71-4390-a772-e7b02700330e",
   "metadata": {},
   "outputs": [],
   "source": [
    "! pip install umap-learn"
   ]
  },
  {
   "cell_type": "markdown",
   "id": "6aafac21-e86c-4e4e-821b-3770121e743b",
   "metadata": {},
   "source": [
    "# Dataset"
   ]
  },
  {
   "cell_type": "markdown",
   "id": "4f1032a9-4b69-4f87-bdad-ca96fb0e549c",
   "metadata": {},
   "source": [
    "Load datasets from Hugging Face hub"
   ]
  },
  {
   "cell_type": "code",
   "execution_count": null,
   "id": "8c26d9d7-95fc-4d3c-bb26-21b2600b124f",
   "metadata": {},
   "outputs": [],
   "source": [
    "from datasets import list_datasets\n",
    "\n",
    "all_datasets = list_datasets()\n",
    "print(f\"There are {len(all_datasets)} datasets currently available on the Hub\")"
   ]
  },
  {
   "cell_type": "markdown",
   "id": "f486cc76-a225-4946-bfee-9d89ddec9084",
   "metadata": {},
   "source": [
    "#### or"
   ]
  },
  {
   "cell_type": "code",
   "execution_count": null,
   "id": "570f53cd-d0f2-452d-9878-c8c5e2f89296",
   "metadata": {
    "scrolled": true
   },
   "outputs": [],
   "source": [
    "import huggingface_hub\n",
    "\n",
    "all_datasets_generator = huggingface_hub.list_datasets()\n",
    "all_datasets_list = list(all_datasets_generator)\n",
    "\n",
    "print(f\"There are {len(all_datasets_list)} datasets currently available on the Hub\")"
   ]
  },
  {
   "cell_type": "code",
   "execution_count": 1,
   "id": "1f97db39-7b7c-468c-a642-4c394ca9ef90",
   "metadata": {
    "ExecuteTime": {
     "end_time": "2024-02-23T22:40:29.493876Z",
     "start_time": "2024-02-23T22:40:23.347653Z"
    }
   },
   "outputs": [
    {
     "name": "stderr",
     "output_type": "stream",
     "text": [
      "/Users/henriquemalta/anaconda3/envs/Natural-Language-Processing/lib/python3.10/site-packages/datasets/load.py:1454: FutureWarning: The repository for emotion contains custom code which must be executed to correctly load the dataset. You can inspect the repository content at https://hf.co/datasets/emotion\n",
      "You can avoid this message in future by passing the argument `trust_remote_code=True`.\n",
      "Passing `trust_remote_code=True` will be mandatory to load this dataset from the next major release of `datasets`.\n",
      "  warnings.warn(\n"
     ]
    }
   ],
   "source": [
    "from datasets import load_dataset\n",
    "\n",
    "emotions = load_dataset(\"emotion\")"
   ]
  },
  {
   "cell_type": "code",
   "execution_count": 2,
   "id": "3456401c-9ee8-4fb4-ad74-74c6d75f46b0",
   "metadata": {
    "ExecuteTime": {
     "end_time": "2024-02-23T22:40:29.499529Z",
     "start_time": "2024-02-23T22:40:29.496158Z"
    }
   },
   "outputs": [
    {
     "data": {
      "text/plain": "DatasetDict({\n    train: Dataset({\n        features: ['text', 'label'],\n        num_rows: 16000\n    })\n    validation: Dataset({\n        features: ['text', 'label'],\n        num_rows: 2000\n    })\n    test: Dataset({\n        features: ['text', 'label'],\n        num_rows: 2000\n    })\n})"
     },
     "execution_count": 2,
     "metadata": {},
     "output_type": "execute_result"
    }
   ],
   "source": [
    "emotions"
   ]
  },
  {
   "cell_type": "code",
   "execution_count": 3,
   "id": "d1cbc0ca-170f-4a8e-8f13-a29f05675210",
   "metadata": {
    "ExecuteTime": {
     "end_time": "2024-02-23T22:40:29.514627Z",
     "start_time": "2024-02-23T22:40:29.500848Z"
    }
   },
   "outputs": [
    {
     "data": {
      "text/plain": "                                                text  label\n0                            i didnt feel humiliated      0\n1  i can go from feeling so hopeless to so damned...      0\n2   im grabbing a minute to post i feel greedy wrong      3\n3  i am ever feeling nostalgic about the fireplac...      2\n4                               i am feeling grouchy      3",
      "text/html": "<div>\n<style scoped>\n    .dataframe tbody tr th:only-of-type {\n        vertical-align: middle;\n    }\n\n    .dataframe tbody tr th {\n        vertical-align: top;\n    }\n\n    .dataframe thead th {\n        text-align: right;\n    }\n</style>\n<table border=\"1\" class=\"dataframe\">\n  <thead>\n    <tr style=\"text-align: right;\">\n      <th></th>\n      <th>text</th>\n      <th>label</th>\n    </tr>\n  </thead>\n  <tbody>\n    <tr>\n      <th>0</th>\n      <td>i didnt feel humiliated</td>\n      <td>0</td>\n    </tr>\n    <tr>\n      <th>1</th>\n      <td>i can go from feeling so hopeless to so damned...</td>\n      <td>0</td>\n    </tr>\n    <tr>\n      <th>2</th>\n      <td>im grabbing a minute to post i feel greedy wrong</td>\n      <td>3</td>\n    </tr>\n    <tr>\n      <th>3</th>\n      <td>i am ever feeling nostalgic about the fireplac...</td>\n      <td>2</td>\n    </tr>\n    <tr>\n      <th>4</th>\n      <td>i am feeling grouchy</td>\n      <td>3</td>\n    </tr>\n  </tbody>\n</table>\n</div>"
     },
     "execution_count": 3,
     "metadata": {},
     "output_type": "execute_result"
    }
   ],
   "source": [
    "import pandas as pd\n",
    "\n",
    "emotions.set_format(type=\"pandas\")\n",
    "df = emotions[\"train\"].to_pandas()\n",
    "df.head()"
   ]
  },
  {
   "cell_type": "code",
   "execution_count": 4,
   "id": "d25574f2-b6d5-409d-9058-d2fbc53701dd",
   "metadata": {
    "ExecuteTime": {
     "end_time": "2024-02-23T22:40:38.402160Z",
     "start_time": "2024-02-23T22:40:37.487698Z"
    }
   },
   "outputs": [
    {
     "data": {
      "text/plain": "<Figure size 640x480 with 1 Axes>",
      "image/png": "[encoded data removed]"
     },
     "metadata": {},
     "output_type": "display_data"
    }
   ],
   "source": [
    "import matplotlib.pyplot as plt\n",
    "\n",
    "df[\"label\"].value_counts(ascending=True).plot.barh()\n",
    "plt.title(\"Frequency of Classes\")\n",
    "plt.show()"
   ]
  },
  {
   "cell_type": "code",
   "execution_count": null,
   "id": "09088115-4555-4f6a-a40d-cdb6e08e4080",
   "metadata": {},
   "outputs": [],
   "source": [
    "emotions.reset_format()"
   ]
  },
  {
   "cell_type": "markdown",
   "id": "2598b26b-7b50-47ea-8410-005b6a2a322f",
   "metadata": {},
   "source": [
    "# Tokens"
   ]
  },
  {
   "cell_type": "code",
   "execution_count": null,
   "id": "c79469f4-1b59-4c67-a135-103b8555b38e",
   "metadata": {},
   "outputs": [],
   "source": [
    "from transformers import AutoTokenizer\n",
    "\n",
    "model_ckpt = \"distilbert-base-uncased\"\n",
    "tokenizer = AutoTokenizer.from_pretrained(model_ckpt)"
   ]
  },
  {
   "cell_type": "code",
   "execution_count": null,
   "id": "2640e73a-8831-454e-a2e6-e46b100336a6",
   "metadata": {},
   "outputs": [],
   "source": [
    "print(tokenizer.vocab_size)\n",
    "print(tokenizer.model_max_length)\n",
    "print(tokenizer.model_input_names)"
   ]
  },
  {
   "cell_type": "code",
   "execution_count": null,
   "id": "469f2941-3b2a-4f14-99d2-823a9ebce87a",
   "metadata": {},
   "outputs": [],
   "source": [
    "def tokenize(batch):\n",
    "    return tokenizer(batch[\"text\"], padding=True, truncation=True)\n",
    "\n",
    "\n",
    "# hide_output\n",
    "emotions_encoded = emotions.map(tokenize, batched=True, batch_size=None)"
   ]
  },
  {
   "cell_type": "markdown",
   "id": "8590b0d6-3c36-4958-9c17-923ddffacd2a",
   "metadata": {},
   "source": [
    "# Training a Text Classifier"
   ]
  },
  {
   "cell_type": "markdown",
   "id": "b9c0ec04-c816-4616-99f8-3c2b44d07eb9",
   "metadata": {},
   "source": [
    "## Transformers as Feature Extractors"
   ]
  },
  {
   "cell_type": "code",
   "execution_count": null,
   "id": "40825242-db4e-4575-bfc4-399390cb4204",
   "metadata": {},
   "outputs": [],
   "source": [
    "import torch\n",
    "from transformers import AutoModel\n",
    "\n",
    "model_ckpt = \"distilbert-base-uncased\"\n",
    "device = torch.device(\"cuda\" if torch.cuda.is_available() else \"cpu\")\n",
    "model = AutoModel.from_pretrained(model_ckpt).to(device)"
   ]
  },
  {
   "cell_type": "code",
   "execution_count": null,
   "id": "09a94da7-0e70-4941-842f-e3f50af11fbb",
   "metadata": {},
   "outputs": [],
   "source": [
    "def extract_hidden_states(batch):\n",
    "    # Place model inputs on the GPU\n",
    "    inputs = {k:v.to(device) for k,v in batch.items() \n",
    "              if k in tokenizer.model_input_names}\n",
    "    # Extract last hidden states\n",
    "    with torch.no_grad():\n",
    "        last_hidden_state = model(**inputs).last_hidden_state\n",
    "    # Return vector for [CLS] token\n",
    "    return {\"hidden_state\": last_hidden_state[:,0].cpu().numpy()}\n",
    "\n",
    "emotions_encoded.set_format(\"torch\", \n",
    "                            columns=[\"input_ids\", \"attention_mask\", \"label\"])\n",
    "\n",
    "emotions_hidden = emotions_encoded.map(extract_hidden_states, batched=True)\n",
    "\n",
    "print(emotions_hidden)"
   ]
  },
  {
   "cell_type": "code",
   "execution_count": null,
   "id": "9ec17b1b-20a4-4883-bede-7e0a0c9eb84c",
   "metadata": {},
   "outputs": [],
   "source": [
    "import numpy as np\n",
    "\n",
    "X_train = np.array(emotions_hidden[\"train\"][\"hidden_state\"])\n",
    "X_valid = np.array(emotions_hidden[\"validation\"][\"hidden_state\"])\n",
    "y_train = np.array(emotions_hidden[\"train\"][\"label\"])\n",
    "y_valid = np.array(emotions_hidden[\"validation\"][\"label\"])\n",
    "X_train.shape, X_valid.shape"
   ]
  },
  {
   "cell_type": "code",
   "execution_count": null,
   "id": "56c29daf-fee3-4817-9935-022b034b0505",
   "metadata": {},
   "outputs": [],
   "source": [
    "from umap import UMAP\n",
    "from sklearn.preprocessing import MinMaxScaler\n",
    "\n",
    "# Scale features to [0,1] range\n",
    "X_scaled = MinMaxScaler().fit_transform(X_train)\n",
    "# Initialize and fit UMAP\n",
    "mapper = UMAP(n_components=2, metric=\"cosine\").fit(X_scaled)\n",
    "# Create a DataFrame of 2D embeddings\n",
    "df_emb = pd.DataFrame(mapper.embedding_, columns=[\"X\", \"Y\"])\n",
    "df_emb[\"label\"] = y_train\n",
    "df_emb.head()"
   ]
  },
  {
   "cell_type": "code",
   "execution_count": null,
   "id": "9592ac3c-cf71-4614-92e0-7d1f69729c06",
   "metadata": {},
   "outputs": [],
   "source": [
    "fig, axes = plt.subplots(2, 3, figsize=(7,5))\n",
    "axes = axes.flatten()\n",
    "cmaps = [\"Greys\", \"Blues\", \"Oranges\", \"Reds\", \"Purples\", \"Greens\"]\n",
    "labels = emotions[\"train\"].features[\"label\"].names\n",
    "\n",
    "for i, (label, cmap) in enumerate(zip(labels, cmaps)):\n",
    "    df_emb_sub = df_emb.query(f\"label == {i}\")\n",
    "    axes[i].hexbin(df_emb_sub[\"X\"], df_emb_sub[\"Y\"], cmap=cmap,\n",
    "                   gridsize=20, linewidths=(0,))\n",
    "    axes[i].set_title(label)\n",
    "    axes[i].set_xticks([]), axes[i].set_yticks([])\n",
    "\n",
    "plt.tight_layout()\n",
    "plt.show()"
   ]
  },
  {
   "cell_type": "code",
   "execution_count": null,
   "id": "78d5125b-b428-4c1e-b812-43184b0dab3a",
   "metadata": {},
   "outputs": [],
   "source": [
    "from sklearn.dummy import DummyClassifier\n",
    "\n",
    "dummy_clf = DummyClassifier(strategy=\"most_frequent\")\n",
    "dummy_clf.fit(X_train, y_train)\n",
    "dummy_clf.score(X_valid, y_valid)"
   ]
  },
  {
   "cell_type": "code",
   "execution_count": null,
   "id": "98f798c3",
   "metadata": {},
   "outputs": [],
   "source": [
    "from sklearn.ensemble import VotingClassifier\n",
    "from sklearn.linear_model import LogisticRegression\n",
    "from sklearn.ensemble import RandomForestClassifier\n",
    "from sklearn.svm import SVC\n",
    "from sklearn.naive_bayes import GaussianNB\n",
    "\n",
    "\n",
    "log_reg = LogisticRegression(max_iter=3000)\n",
    "svm = SVC()\n",
    "naive_bayes = GaussianNB()\n",
    "\n",
    "\n",
    "voting_clf = VotingClassifier(estimators=[('log_reg', log_reg), \n",
    "                                          ('svm', svm), \n",
    "                                          ('naive_bayes', naive_bayes),], \n",
    "                                          voting='hard',\n",
    "                                          verbose=2)"
   ]
  },
  {
   "cell_type": "code",
   "execution_count": null,
   "id": "985bfe15",
   "metadata": {},
   "outputs": [],
   "source": [
    "voting_clf.fit(X_train, y_train)\n",
    "voting_clf.score(X_valid, y_valid)"
   ]
  },
  {
   "cell_type": "markdown",
   "id": "ebde2996",
   "metadata": {},
   "source": [
    "#### F1, Recall, Precision\n",
    "* None: This will return the unweighted average of the F1 scores for each class. This is not recommended for imbalanced classes.\n",
    "* micro: This will calculate the F1 score by considering all classes equally. This is the most common and robust average setting for multiclass classification.\n",
    "* macro: This will calculate the F1 score for each class and then average the F1 scores across classes. This is sensitive to class imbalance.\n",
    "* weighted: This will calculate the F1 score for each class and then weight the average F1 score by the class priors. This is a more robust average setting for imbalanced classes."
   ]
  },
  {
   "cell_type": "code",
   "execution_count": null,
   "id": "2028e9b8",
   "metadata": {},
   "outputs": [],
   "source": [
    "from sklearn.metrics import f1_score, recall_score, precision_score, accuracy_score\n",
    "\n",
    "lr_clf = LogisticRegression(max_iter=3000)\n",
    "lr_clf.fit(X_train, y_train)\n",
    "print(\"LogisticRegression: \", lr_clf.score(X_valid, y_valid))\n",
    "\n",
    "f1 = f1_score(y_valid, lr_clf.predict(X_valid), average='macro')\n",
    "recall = recall_score(y_valid, lr_clf.predict(X_valid), average='macro')\n",
    "precision = precision_score(y_valid, lr_clf.predict(X_valid), average='macro')\n",
    "print(\"F1 score: \", f1)\n",
    "print(\"Recall: \", recall)\n",
    "print(\"Precision: \", precision)\n",
    "\n",
    "\n",
    "rf_clf = RandomForestClassifier()\n",
    "rf_clf.fit(X_train, y_train)\n",
    "print(\"RandomForestClassifier: \", rf_clf.score(X_valid, y_valid))\n",
    "\n",
    "svc_clf = SVC()\n",
    "svc_clf.fit(X_train, y_train)\n",
    "print(\"SVC: \", svc_clf.score(X_valid, y_valid))\n",
    "\n",
    "nb_clf = GaussianNB()\n",
    "nb_clf.fit(X_train, y_train)\n",
    "print(\"GaussianNB: \", nb_clf.score(X_valid, y_valid))"
   ]
  },
  {
   "cell_type": "code",
   "execution_count": null,
   "id": "a1b54af8-ddda-4c2f-a524-e39d3de12c22",
   "metadata": {},
   "outputs": [],
   "source": [
    "from sklearn.metrics import ConfusionMatrixDisplay, confusion_matrix\n",
    "\n",
    "def plot_confusion_matrix(y_preds, y_true, labels):\n",
    "    cm = confusion_matrix(y_true, y_preds, normalize=\"true\")\n",
    "    fig, ax = plt.subplots(figsize=(6, 6))\n",
    "    disp = ConfusionMatrixDisplay(confusion_matrix=cm, display_labels=labels)\n",
    "    disp.plot(cmap=\"inferno\", values_format=\".2f\", ax=ax, colorbar=False)\n",
    "    plt.title(\"Normalized confusion matrix\")\n",
    "    plt.show()\n",
    "    \n",
    "y_preds = voting_clf.predict(X_valid)\n",
    "plot_confusion_matrix(y_preds, y_valid, labels)"
   ]
  },
  {
   "cell_type": "markdown",
   "id": "a579a7c4-fa0a-42ef-a1e3-013e7bf5be1d",
   "metadata": {},
   "source": [
    "# Reference"
   ]
  },
  {
   "cell_type": "markdown",
   "id": "0b3a3b27-2014-41fa-aefa-271a30db3a25",
   "metadata": {},
   "source": [
    "1. Tunstall, Lewis and Von Werra, Leandro and Wolf, Thomas. (2022). *[Natural language processing with transformers](https://books.google.pt/books?hl=en&lr=&id=nzxbEAAAQBAJ&oi=fnd&pg=PP1&dq=natural+language+processing+with+hugging+face+book&ots=sUngJ_q1JE&sig=jA559R-MigxWmh5vZQtpTJSeJkU&redir_esc=y#v=onepage&q=natural%20language%20processing%20with%20hugging%20face%20book&f=false)*. O'Reilly Media, Inc."
   ]
  },
  {
   "cell_type": "markdown",
   "id": "cdbbe4a5-85eb-46aa-a774-eb029cee8689",
   "metadata": {},
   "source": [
    "## Additional Resources\n",
    "\n",
    "- [Hugging Face Official Documentation](https://huggingface.co/docs)\n",
    "- [Hugging Face Model Hub](https://huggingface.co/models)"
   ]
  },
  {
   "cell_type": "code",
   "execution_count": null,
   "id": "899716ff-50e5-42ce-affe-20e5977fe7ee",
   "metadata": {},
   "outputs": [],
   "source": []
  }
 ],
 "metadata": {
  "kernelspec": {
   "display_name": "Python 3 (ipykernel)",
   "language": "python",
   "name": "python3"
  },
  "language_info": {
   "codemirror_mode": {
    "name": "ipython",
    "version": 3
   },
   "file_extension": ".py",
   "mimetype": "text/x-python",
   "name": "python",
   "nbconvert_exporter": "python",
   "pygments_lexer": "ipython3",
   "version": "3.10.13"
  }
 },
 "nbformat": 4,
 "nbformat_minor": 5
}
